{
  "nbformat": 4,
  "nbformat_minor": 0,
  "metadata": {
    "colab": {
      "provenance": []
    },
    "kernelspec": {
      "name": "python3",
      "display_name": "Python 3"
    },
    "language_info": {
      "name": "python"
    }
  },
  "cells": [
    {
      "cell_type": "code",
      "source": [
        "!pip install pymorphy2\n",
        "!pip install textdistance"
      ],
      "metadata": {
        "colab": {
          "base_uri": "https://localhost:8080/"
        },
        "id": "SeXz7kWjjz1P",
        "outputId": "9497c748-ad3e-44a2-f995-4216d85c652c"
      },
      "execution_count": null,
      "outputs": [
        {
          "output_type": "stream",
          "name": "stdout",
          "text": [
            "Looking in indexes: https://pypi.org/simple, https://us-python.pkg.dev/colab-wheels/public/simple/\n",
            "Requirement already satisfied: pymorphy2 in /usr/local/lib/python3.7/dist-packages (0.9.1)\n",
            "Requirement already satisfied: dawg-python>=0.7.1 in /usr/local/lib/python3.7/dist-packages (from pymorphy2) (0.7.2)\n",
            "Requirement already satisfied: pymorphy2-dicts-ru<3.0,>=2.4 in /usr/local/lib/python3.7/dist-packages (from pymorphy2) (2.4.417127.4579844)\n",
            "Requirement already satisfied: docopt>=0.6 in /usr/local/lib/python3.7/dist-packages (from pymorphy2) (0.6.2)\n",
            "Looking in indexes: https://pypi.org/simple, https://us-python.pkg.dev/colab-wheels/public/simple/\n",
            "Collecting textdistance\n",
            "  Downloading textdistance-4.5.0-py3-none-any.whl (31 kB)\n",
            "Installing collected packages: textdistance\n",
            "Successfully installed textdistance-4.5.0\n"
          ]
        }
      ]
    },
    {
      "cell_type": "code",
      "source": [
        "from sklearn.feature_extraction.text import CountVectorizer, TfidfVectorizer\n",
        "import nltk\n",
        "nltk.download('punkt') \n",
        "import pymorphy2\n",
        "nltk.download('stopwords')\n",
        "from nltk.stem import WordNetLemmatizer \n",
        "nltk.download('omw-1.4')\n",
        "nltk.download('wordnet')\n",
        "import textdistance"
      ],
      "metadata": {
        "colab": {
          "base_uri": "https://localhost:8080/"
        },
        "id": "t3t8eOqYj4Y1",
        "outputId": "6a079b4c-b989-4559-fdf5-93afd93ed8f1"
      },
      "execution_count": null,
      "outputs": [
        {
          "output_type": "stream",
          "name": "stderr",
          "text": [
            "[nltk_data] Downloading package punkt to /root/nltk_data...\n",
            "[nltk_data]   Package punkt is already up-to-date!\n",
            "[nltk_data] Downloading package stopwords to /root/nltk_data...\n",
            "[nltk_data]   Package stopwords is already up-to-date!\n",
            "[nltk_data] Downloading package omw-1.4 to /root/nltk_data...\n",
            "[nltk_data]   Package omw-1.4 is already up-to-date!\n",
            "[nltk_data] Downloading package wordnet to /root/nltk_data...\n",
            "[nltk_data]   Package wordnet is already up-to-date!\n"
          ]
        }
      ]
    },
    {
      "cell_type": "code",
      "execution_count": null,
      "metadata": {
        "id": "8sklxSkMh33S",
        "colab": {
          "base_uri": "https://localhost:8080/"
        },
        "outputId": "a427c45b-cc88-4227-8b33-eecc24e04b4c"
      },
      "outputs": [
        {
          "output_type": "stream",
          "name": "stdout",
          "text": [
            "Сравнение слов и фраз по косинусному сходству\n",
            "\n",
            "Выбирите язык тексат \"англ\" или \"ру\": ру\n",
            "Введите первый текст: локоть\n",
            "Введите второй текст: ломоть\n",
            "[' локоть']\n",
            "[' ломоть']\n",
            "0.75\n"
          ]
        }
      ],
      "source": [
        "\n",
        "# Токкенизация и лимматизация\n",
        "def tokenizeText(text, lang):\n",
        "    text_str = nltk.sent_tokenize(text)\n",
        "    text_word = []\n",
        "    text_tok = []\n",
        "    text_lem = []\n",
        "    out_text = []\n",
        "    symbols = ['!', '?', '-', '_', '“', '”', ',', '.', '«' ,'»', '(', ')', '–',';',\n",
        "           ':', '’', '%']\n",
        "    eng_stop = nltk.corpus.stopwords.words('english')\n",
        "    ru_stop = nltk.corpus.stopwords.words('russian')\n",
        "\n",
        "\n",
        "    for i in text_str:\n",
        "        text_word.append(nltk.word_tokenize(i))\n",
        "\n",
        "    for i in text_word:\n",
        "        text_buf = []\n",
        "        for j in i:            \n",
        "            if j.lower() not in symbols and j.lower() not in eng_stop and j.lower() not in ru_stop:\n",
        "                text_buf.append(j.lower())                \n",
        "        text_tok.append(text_buf)\n",
        "\n",
        "    \n",
        "    if lang == 'ру':\n",
        "        morph = pymorphy2.MorphAnalyzer()\n",
        "        for x in text_tok:\n",
        "            text_buf = []\n",
        "            for j in x:\n",
        "                text_buf.append(morph.parse(j)[0].normal_form)\n",
        "                \n",
        "            text_lem.append(text_buf)        \n",
        "\n",
        "    elif lang == 'англ':     \n",
        "        lemmatizer = WordNetLemmatizer()   \n",
        "        for x in text_tok:\n",
        "            text_buf = []\n",
        "            for j in x:\n",
        "                text_buf.append(lemmatizer.lemmatize(j))                \n",
        "            text_lem.append(text_buf)        \n",
        "        \n",
        "    else:\n",
        "        print('неверный язык')\n",
        "\n",
        "    \n",
        "    for i in text_lem:\n",
        "        str_text = ''\n",
        "        for word in i:\n",
        "            str_text += ' ' + word\n",
        "        out_text.append(str_text)\n",
        "\n",
        "    return out_text\n",
        "\n",
        "print('Сравнение слов и фраз по косинусному сходству')\n",
        "print()\n",
        "while True:    \n",
        "    lang = input('Выбирите язык тексат \"англ\" или \"ру\": ')    \n",
        "    if lang == 'англ' or lang == 'ру':\n",
        "        in_text_1 = input('Введите первый текст: ')\n",
        "        lem_text_1 = tokenizeText(in_text_1, lang) \n",
        "        in_text_2 = input('Введите второй текст: ')\n",
        "        lem_text_2 = tokenizeText(in_text_2, lang)\n",
        "        break\n",
        "    else:\n",
        "        print('Не правельный язык')\n",
        "  \n",
        "text_siml = textdistance.jaccard(*lem_text_1, *lem_text_2)\n",
        "print(lem_text_1)\n",
        "print(lem_text_2)\n",
        "print(text_siml)"
      ]
    }
  ]
}